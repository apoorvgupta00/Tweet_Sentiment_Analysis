{
  "nbformat": 4,
  "nbformat_minor": 0,
  "metadata": {
    "colab": {
      "name": "Tweet_Sentiment_Analysis-1.ipynb",
      "provenance": [],
      "collapsed_sections": []
    },
    "kernelspec": {
      "name": "python3",
      "display_name": "Python 3"
    }
  },
  "cells": [
    {
      "cell_type": "code",
      "metadata": {
        "id": "e7V_wd1Wkb5C",
        "colab_type": "code",
        "colab": {}
      },
      "source": [
        "import numpy as np \n",
        "import pandas as pd \n",
        "import seaborn as sns\n",
        "from sklearn.metrics import confusion_matrix\n",
        "import nltk\n",
        "from sklearn import preprocessing\n",
        "from nltk.stem.porter import PorterStemmer\n",
        "import matplotlib.pyplot as plt\n",
        "from tensorflow.keras.models import Sequential\n",
        "from tensorflow.keras.layers import Embedding\n",
        "from tensorflow.keras.preprocessing.sequence import pad_sequences\n",
        "from tensorflow.keras.layers import LSTM\n",
        "from tensorflow.keras.preprocessing.text import one_hot\n",
        "from tensorflow.keras.layers import Dense\n",
        "import tensorflow as tf\n",
        "from tensorflow.keras.layers import Dropout\n",
        "import re\n",
        "from nltk.corpus import stopwords\n",
        "from keras.utils import to_categorical\n",
        "from sklearn.model_selection import train_test_split"
      ],
      "execution_count": 0,
      "outputs": []
    },
    {
      "cell_type": "markdown",
      "metadata": {
        "id": "mH5zi8bJZ1LL",
        "colab_type": "text"
      },
      "source": [
        "The CSV file is read here"
      ]
    },
    {
      "cell_type": "code",
      "metadata": {
        "id": "5i5FXwCnkfiJ",
        "colab_type": "code",
        "colab": {}
      },
      "source": [
        "df = pd.read_csv('Twitter_Data.csv')\n",
        "cat = df.dropna()\n",
        "cat = df.drop('category', axis = 1)\n",
        "y = df['category']\n",
        "list1 = []\n",
        "sentence = cat.copy()\n",
        "sentence.reset_index(inplace = True)\n",
        "nltk.download('stopwords')\n",
        "porterstemmer = PorterStemmer()\n",
        "for x in range(0, len(sentence)):\n",
        "\n",
        "    tweet1 = str(sentence['clean_text'][x])\n",
        "    tweet1 = tweet1.lower()\n",
        "    tweet1 = tweet1.split()\n",
        "    tweet1 = [porterstemmer.stem(w) for w in tweet1 if not w in stopwords.words('english')]\n",
        "    tweet1 = ' '.join(tweet1)\n",
        "    print(tweet1)\n",
        "    list1.append(tweet1)\n"
      ],
      "execution_count": 0,
      "outputs": []
    },
    {
      "cell_type": "markdown",
      "metadata": {
        "id": "yQ9XkbV-Z-vW",
        "colab_type": "text"
      },
      "source": [
        "Graphical Representation of Sentiment Values"
      ]
    },
    {
      "cell_type": "code",
      "metadata": {
        "id": "-v2tDXvLlGhg",
        "colab_type": "code",
        "outputId": "f1975c59-9271-454c-a423-6bdce634010c",
        "colab": {
          "base_uri": "https://localhost:8080/",
          "height": 279
        }
      },
      "source": [
        "sns.countplot(df.category)\n",
        "plt.xlabel('category');"
      ],
      "execution_count": 24,
      "outputs": [
        {
          "output_type": "display_data",
          "data": {
            "image/png": "[encoded data removed]",
            "text/plain": [
              "<Figure size 432x288 with 1 Axes>"
            ]
          },
          "metadata": {
            "tags": [],
            "needs_background": "light"
          }
        }
      ]
    },
    {
      "cell_type": "markdown",
      "metadata": {
        "id": "p9uGKb9ZaOaX",
        "colab_type": "text"
      },
      "source": [
        "Training Phase"
      ]
    },
    {
      "cell_type": "code",
      "metadata": {
        "id": "XPdwOizskp5b",
        "colab_type": "code",
        "colab": {}
      },
      "source": [
        "oh = [one_hot(w, 5000) for w in list1]\n",
        "model=Sequential()\n",
        "model.add(Embedding(5000,40,input_length=30))\n",
        "model.add(LSTM(100))\n",
        "model.add(Dense(len(set(df['category'])),activation='softmax'))\n",
        "model.compile(loss='categorical_crossentropy',optimizer='rmsprop',metrics=['accuracy'])\n",
        "print(model.summary())\n",
        "encode_lab = preprocessing.LabelEncoder()\n",
        "y = encode_lab.fit_transform(y)\n",
        "Xf = np.array(pad_sequences(oh, padding = 'pre', maxlen = 30))\n",
        "yf = np.array(y)\n",
        "yf = to_categorical(yf)\n",
        "X_train, X_test, y_train, y_test = train_test_split(Xf, yf, test_size=0.3, random_state=42)\n",
        "model.fit(X_train, y_train,epochs = 10, batch_size = 64)"
      ],
      "execution_count": 0,
      "outputs": []
    },
    {
      "cell_type": "markdown",
      "metadata": {
        "id": "BHzWe4EFaRjs",
        "colab_type": "text"
      },
      "source": [
        "Testing the Model"
      ]
    },
    {
      "cell_type": "code",
      "metadata": {
        "id": "Zt_MiWFj30G6",
        "colab_type": "code",
        "colab": {}
      },
      "source": [
        "test_l, test_accuracy = model.evaluate(X_test, y_test, verbose=10)\n",
        "print('Test accuracy:', test_accuracy)"
      ],
      "execution_count": 0,
      "outputs": []
    }
  ]
}